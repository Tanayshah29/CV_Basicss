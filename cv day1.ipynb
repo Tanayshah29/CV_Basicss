{
 "cells": [
  {
   "cell_type": "code",
   "execution_count": 1,
   "metadata": {},
   "outputs": [],
   "source": [
    "import numpy as plt"
   ]
  },
  {
   "cell_type": "code",
   "execution_count": 2,
   "metadata": {},
   "outputs": [],
   "source": [
    "import cv2"
   ]
  },
  {
   "cell_type": "code",
   "execution_count": 3,
   "metadata": {},
   "outputs": [
    {
     "ename": "SyntaxError",
     "evalue": "(unicode error) 'unicodeescape' codec can't decode bytes in position 2-3: truncated \\UXXXXXXXX escape (<ipython-input-3-a765768c7ad2>, line 1)",
     "output_type": "error",
     "traceback": [
      "\u001b[1;36m  File \u001b[1;32m\"<ipython-input-3-a765768c7ad2>\"\u001b[1;36m, line \u001b[1;32m1\u001b[0m\n\u001b[1;33m    img = cv2.imread(\"C:\\Users\\DELL\\Desktop\\CV2_course_material-20190822T085446Z-001\\CV2_course_material\")\u001b[0m\n\u001b[1;37m                    ^\u001b[0m\n\u001b[1;31mSyntaxError\u001b[0m\u001b[1;31m:\u001b[0m (unicode error) 'unicodeescape' codec can't decode bytes in position 2-3: truncated \\UXXXXXXXX escape\n"
     ]
    }
   ],
   "source": [
    "img = cv2.imread(\"C:\\Users\\DELL\\Desktop\\CV2_course_material-20190822T085446Z-001\\CV2_course_material\")"
   ]
  },
  {
   "cell_type": "code",
   "execution_count": 4,
   "metadata": {},
   "outputs": [],
   "source": [
    "img = cv2.imread(\"C:/Users/DELL/Desktop/CV2_course_material-20190822T085446Z-001/CV2_course_material/py.jpg\")"
   ]
  },
  {
   "cell_type": "code",
   "execution_count": 6,
   "metadata": {},
   "outputs": [],
   "source": [
    "cv2.imshow(\"IMG\",img)#showing image in new window with name IMG\n",
    "cv2.waitKey(0)#wait until key is pressed bcoz img doesnt know when to stop\n",
    "cv2.destroyAllWindows()#after key press close all windows"
   ]
  },
  {
   "cell_type": "code",
   "execution_count": null,
   "metadata": {},
   "outputs": [],
   "source": [
    "#IMAGE ARE STORED IN BGR COLOURS"
   ]
  },
  {
   "cell_type": "code",
   "execution_count": null,
   "metadata": {},
   "outputs": [],
   "source": [
    "(b,g,r) = img[0,0]"
   ]
  },
  {
   "cell_type": "code",
   "execution_count": 9,
   "metadata": {},
   "outputs": [],
   "source": [
    "img[0:150 , 0:150] = (120 , 120 ,0)#making a pixe colour with blue+green\n",
    "\n",
    "cv2.imshow(\"IMG\",img)#showing image in new window with name IMG\n",
    "cv2.waitKey(0)#wait until key is pressed bcoz img doesnt know when to stop\n",
    "cv2.destroyAllWindows()#after key press close all windows"
   ]
  },
  {
   "cell_type": "code",
   "execution_count": null,
   "metadata": {},
   "outputs": [],
   "source": [
    "img=plt.zeros((300,300,3),dtype='uint8')#zeros used to make matrix the parameter are dimensions,to restrict calculation use uint8"
   ]
  },
  {
   "cell_type": "code",
   "execution_count": null,
   "metadata": {},
   "outputs": [],
   "source": [
    "red = (0,0,255)\n",
    "black = (0,0,0)"
   ]
  },
  {
   "cell_type": "code",
   "execution_count": null,
   "metadata": {},
   "outputs": [],
   "source": [
    "cv2.rectangle(img,(120,120),(300,300),black,5)"
   ]
  },
  {
   "cell_type": "code",
   "execution_count": null,
   "metadata": {},
   "outputs": [],
   "source": [
    "cv2.imshow(\"Cutie\",img)\n",
    "cv2.waitKey(0)\n",
    "cv2.destroyAllWindows()"
   ]
  },
  {
   "cell_type": "code",
   "execution_count": null,
   "metadata": {},
   "outputs": [],
   "source": [
    "cv2.rectangle(img,(0,0),(300,300),black,4)"
   ]
  },
  {
   "cell_type": "code",
   "execution_count": null,
   "metadata": {},
   "outputs": [],
   "source": [
    "cv2.imshow(\"Cutie\",img)\n",
    "cv2.waitKey(0)\n",
    "cv2.destroyAllWindows()"
   ]
  },
  {
   "cell_type": "code",
   "execution_count": null,
   "metadata": {},
   "outputs": [],
   "source": [
    "cv2.line(img,(150,150),(300,300),black,5)"
   ]
  },
  {
   "cell_type": "code",
   "execution_count": null,
   "metadata": {},
   "outputs": [],
   "source": [
    "cv2.imshow(\"Cutie\",img)\n",
    "cv2.waitKey(0)\n",
    "cv2.destroyAllWindows()"
   ]
  },
  {
   "cell_type": "code",
   "execution_count": null,
   "metadata": {},
   "outputs": [],
   "source": [
    "(centerx,centery)=(img.shape[1]//2 ,img.shape[0]//2)\n",
    "r =150\n",
    "color = (125,125,0)\n",
    "cv2.circle(img,(centerx,centery),r,color,-1)"
   ]
  },
  {
   "cell_type": "code",
   "execution_count": null,
   "metadata": {},
   "outputs": [],
   "source": [
    "hsv=cv2.cvtColor(img,cv2.COLOR_BGR2HSV) #change the color scheme to hue saturation\n",
    "cv2.imshow(\"IMG\",hsv)#showing image in new window with name IMG\n",
    "cv2.waitKey(0)#wait until key is pressed bcoz img doesnt know when to stop\n",
    "cv2.destroyAllWindows()#after key press close all windows"
   ]
  },
  {
   "cell_type": "code",
   "execution_count": 7,
   "metadata": {},
   "outputs": [],
   "source": [
    "cap=cv2.VideoCapture(0)#if 0=inbuilt cam 1=usb web cam\n",
    "ret,img=cap.read()#true false val ret,img\n",
    "cv2.imshow(\"IMG\",img)#showing image in new window with name IMG\n",
    "cv2.waitKey(0)#wait until key is pressed bcoz img doesnt know when to stop\n",
    "cv2.destroyAllWindows()#after key press close all windows\n",
    "cap.release()"
   ]
  },
  {
   "cell_type": "code",
   "execution_count": 8,
   "metadata": {},
   "outputs": [],
   "source": [
    "cap=cv2.VideoCapture(0)#if 0=inbuilt cam 1=usb web cam\n",
    "while True:\n",
    "    ret,img=cap.read()#true false val ret,img\n",
    "    cv2.imshow(\"IMG\",img)#showing image in new window with name IMG\n",
    "    if cv2.waitKey(1) & 0xFF==ord('q'):\n",
    "        #waitkey has 1 as a frame sld stop after 1 sec andthen checks if q is pressed to stop video\n",
    "        break\n",
    "        \n",
    "cv2.destroyAllWindows()#after \n",
    "cap.release()    "
   ]
  },
  {
   "cell_type": "code",
   "execution_count": null,
   "metadata": {},
   "outputs": [],
   "source": [
    "cv2.imwrite(\"new_image.jpg\",img)# saving an img being manipulated"
   ]
  },
  {
   "cell_type": "code",
   "execution_count": null,
   "metadata": {},
   "outputs": [],
   "source": []
  }
 ],
 "metadata": {
  "kernelspec": {
   "display_name": "Python 3",
   "language": "python",
   "name": "python3"
  },
  "language_info": {
   "codemirror_mode": {
    "name": "ipython",
    "version": 3
   },
   "file_extension": ".py",
   "mimetype": "text/x-python",
   "name": "python",
   "nbconvert_exporter": "python",
   "pygments_lexer": "ipython3",
   "version": "3.7.3"
  }
 },
 "nbformat": 4,
 "nbformat_minor": 2
}
