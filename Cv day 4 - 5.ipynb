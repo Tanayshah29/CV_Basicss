{
 "cells": [
  {
   "cell_type": "code",
   "execution_count": 1,
   "metadata": {},
   "outputs": [],
   "source": [
    "import cv2"
   ]
  },
  {
   "cell_type": "code",
   "execution_count": 2,
   "metadata": {},
   "outputs": [],
   "source": [
    "import numpy as np"
   ]
  },
  {
   "cell_type": "code",
   "execution_count": 3,
   "metadata": {},
   "outputs": [],
   "source": [
    "import pyautogui"
   ]
  },
  {
   "cell_type": "code",
   "execution_count": 4,
   "metadata": {},
   "outputs": [],
   "source": [
    "py = cv2.imread(\"C:/Users/DELL/Desktop/CV2_course_material-20190822T085446Z-001/CV2_course_material/py.jpg\")"
   ]
  },
  {
   "cell_type": "code",
   "execution_count": 5,
   "metadata": {},
   "outputs": [],
   "source": [
    "gray = cv2.cvtColor(py,cv2.COLOR_BGR2GRAY)\n",
    "\n",
    "contours,_ = cv2.findContours(gray,cv2.RETR_TREE,cv2.CHAIN_APPROX_SIMPLE)\n",
    "\n",
    "cnts = max(contours[1:], key=cv2.contourArea)\n",
    "hull = cv2.convexHull(cnts)\n",
    "\n",
    "cv2.drawContours(py,cnts,-1,(255,0,0),3)\n",
    "cv2.drawContours(py,[hull],-1,(255,255,0),3)\n",
    "\n",
    "cv2.imshow(\"Py\",py)\n",
    "cv2.waitKey()\n",
    "cv2.destroyAllWindows()\n"
   ]
  },
  {
   "cell_type": "code",
   "execution_count": 6,
   "metadata": {},
   "outputs": [],
   "source": [
    "cap = cv2.VideoCapture(0)\n",
    "\n",
    "while True:\n",
    "    _, frame = cap.read()\n",
    "    hsv = cv2.cvtColor(frame, cv2.COLOR_BGR2HSV)\n",
    "    \n",
    "    lower = np.array([90, 100, 20])\n",
    "    higher = np.array([125, 250 ,255])\n",
    "    \n",
    "    mask = cv2.inRange(hsv , lower, higher)\n",
    "    mask = cv2.erode(mask , None, iterations=2)\n",
    "    cnts,_ = cv2.findContours(mask, cv2.RETR_TREE,cv2.CHAIN_APPROX_SIMPLE)\n",
    "    \n",
    "    if len(cnts) > 0:\n",
    "        \n",
    "        c= max(cnts , key=cv2.contourArea)\n",
    "        hull = cv2.convexHull(c)\n",
    "        cv2.drawContours(frame, [hull], -1, (255,0,0), 3)\n",
    "        cv2.drawContours(frame, c, -1, (0,255,0), 3)\n",
    "        \n",
    "        cv2.imshow(\"Video\",frame)\n",
    "        cv2.imshow(\"Video1\",mask)\n",
    "\n",
    "        #showing image in new window with name IMG\n",
    "    if cv2.waitKey(1) & 0xFF==ord('q'):\n",
    "        #waitkey has 1 as a frame sld stop after 1 sec andthen checks if q is pressed to stop video\n",
    "        break\n",
    "        \n",
    "cv2.destroyAllWindows()#after \n",
    "cap.release()              "
   ]
  },
  {
   "cell_type": "code",
   "execution_count": 7,
   "metadata": {},
   "outputs": [],
   "source": [
    "\n",
    "cv2.destroyAllWindows()#after \n",
    "cap.release() "
   ]
  },
  {
   "cell_type": "code",
   "execution_count": 8,
   "metadata": {},
   "outputs": [],
   "source": [
    "import math\n",
    "def calculateAngle(far, start, end):\n",
    "    \"\"\"Cosine rule\"\"\"\n",
    "    a = math.sqrt((end[0] - start[0])**2 + (end[1] - start[1])**2)\n",
    "    b = math.sqrt((far[0] - start[0])**2 + (far[1] - start[1])**2)\n",
    "    c = math.sqrt((end[0] - far[0])**2 + (end[1] - far[1])**2)\n",
    "    angle = math.acos((b**2 + c**2 - a**2) / (2*b*c))\n",
    "    return angle\n",
    "#This one is going to be of use....\n",
    "def countFingers(contour):\n",
    "    hull = cv2.convexHull(contour, returnPoints=False)\n",
    "    if len(hull) > 3:\n",
    "        defects = cv2.convexityDefects(contour, hull)\n",
    "        cnt = 0\n",
    "        if type(defects) != type(None):\n",
    "            for i in range(defects.shape[0]):\n",
    "                #Calculating the angle form the defects\n",
    "                s, e, f, d = defects[i, 0]\n",
    "                start = tuple(contour[s, 0])\n",
    "                end = tuple(contour[e, 0])\n",
    "                far = tuple(contour[f, 0])\n",
    "                angle = calculateAngle(far, start, end)\n",
    "                # Ignore the defects which are small and wide\n",
    "                # Probably not fingers\n",
    "                if d > 10000 and angle <= math.pi/2:\n",
    "                    cnt += 1\n",
    "        return (True, cnt)\n",
    "    return (False, 0)"
   ]
  },
  {
   "cell_type": "code",
   "execution_count": 9,
   "metadata": {},
   "outputs": [],
   "source": [
    "cap = cv2.VideoCapture(0)\n",
    "\n",
    "while True:\n",
    "    _, frame = cap.read()\n",
    "    roi = frame\n",
    "    hsv = cv2.cvtColor(frame, cv2.COLOR_BGR2HSV)\n",
    "    \n",
    "    lower = np.array([90, 100, 20])\n",
    "    higher = np.array([125, 250 ,255])\n",
    "    \n",
    "    mask = cv2.inRange(hsv , lower, higher)\n",
    "    mask = cv2.erode(mask , None, iterations=2)\n",
    "    cnts,_ = cv2.findContours(mask, cv2.RETR_TREE,cv2.CHAIN_APPROX_SIMPLE)\n",
    "    \n",
    "    if len(cnts) > 0:\n",
    "        \n",
    "        c= max(cnts , key=cv2.contourArea)\n",
    "        hull = cv2.convexHull(c)\n",
    "        cv2.drawContours(roi,[hull],-1,(255,0,0),3)\n",
    "        count = countFingers(c)\n",
    "        \n",
    "        if count[1] < 2:\n",
    "            if count[1] == 0:\n",
    "                pyautogui.press('space')\n",
    "        #cv2.drawContours(frame, [hull], -1, (255,0,0), 3)\n",
    "        #cv2.drawContours(frame, c, -1, (0,255,0), 3)\n",
    "        \n",
    "        cv2.imshow(\"Video\",frame)\n",
    "        cv2.imshow(\"Video1\",mask)\n",
    "\n",
    "        #showing image in new window with name IMG\n",
    "    if cv2.waitKey(1) & 0xFF==ord('q'):\n",
    "        #waitkey has 1 as a frame sld stop after 1 sec andthen checks if q is pressed to stop video\n",
    "        break\n",
    "        \n",
    "cv2.destroyAllWindows()#after \n",
    "cap.release()              "
   ]
  },
  {
   "cell_type": "code",
   "execution_count": 10,
   "metadata": {},
   "outputs": [],
   "source": [
    "cap = cv2.VideoCapture(0)\n",
    "fgbg=cv2.createBackgroundSubtractorKNN()\n",
    "while True:\n",
    "    _, frame = cap.read()\n",
    "    mask = fgbg.apply(frame)\n",
    "    cv2.imshow(\"Ori\",mask)\n",
    "    if cv2.waitKey(1) & 0xFF==ord('q'):\n",
    "        #waitkey has 1 as a frame sld stop after 1 sec andthen checks if q is pressed to stop video\n",
    "        break\n",
    "        \n",
    "cv2.destroyAllWindows()#after \n",
    "cap.release()   \n"
   ]
  },
  {
   "cell_type": "code",
   "execution_count": 13,
   "metadata": {},
   "outputs": [],
   "source": [
    "cap = cv2.VideoCapture(0)\n",
    "_, first_frame = cap.read() # [B B B]\n",
    "fgbg=cv2.createBackgroundSubtractorKNN()\n",
    "while True: #B=background and A=object\n",
    "    _, frame = cap.read() #[ B A B ]\n",
    "    mask = fgbg.apply(frame) #[1 0 1] ---MAsking \n",
    "    mask = cv2.dilate(mask , None)\n",
    "    replace = cv2.bitwise_and(first_frame,first_frame,mask = mask) # [0  B 0]\n",
    "    mask = cv2.bitwise_not(mask)  #[1 0 1]\n",
    "    frame = cv2.bitwise_and(frame , frame, mask = mask) # [B 0 B]\n",
    "    frame = cv2.add(frame,replace) # [B B B]\n",
    "    cv2.imshow(\"Video\",frame)\n",
    "    if cv2.waitKey(1) & 0xFF==ord('q'):\n",
    "        #waitkey has 1 as a frame sld stop after 1 sec andthen checks if q is pressed to stop video\n",
    "        break\n",
    "        \n",
    "cv2.destroyAllWindows()#after \n",
    "cap.release()   \n"
   ]
  },
  {
   "cell_type": "code",
   "execution_count": 25,
   "metadata": {},
   "outputs": [],
   "source": [
    "face = cv2.CascadeClassifier('C:/Users/DELL/Desktop/CV2_course_material-20190822T085446Z-001/CV2_course_material/haarcascade_frontalface_default.xml')\n",
    "eye = cv2.CascadeClassifier('C:/Users/DELL/Desktop/CV2_course_material-20190822T085446Z-001/CV2_course_material/haarcascade_eye.xml')\n",
    "smile = cv2.CascadeClassifier('C:/Users/DELL/Desktop/CV2_course_material-20190822T085446Z-001/CV2_course_material/haarcascade_smile.xml')\n",
    "cap=cv2.VideoCapture(0)#if 0=inbuilt cam 1=usb web cam\n",
    "while True:\n",
    "    _,frame=cap.read()#true false val ret,img\n",
    "    gray = cv2.cvtColor(frame, cv2.COLOR_BGR2GRAY)\n",
    "    faces = face.detectMultiScale(gray,1.1,3)\n",
    "    \n",
    "    for x,y,w,h in faces:\n",
    "        cv2.rectangle(frame,(x,y),(x+w,y+h),(0,0,255),3)\n",
    "        face_roi= frame[y:y+h,x:x+w]\n",
    "        gray_roi= frame[y:y+h,x:x+w]\n",
    "        eyes = eye.detectMultiScale(gray_roi,1.1,3)\n",
    "        smiles = smile.detectMultiScale(gray,1.5,5)\n",
    "        for x1,y1,w1,h1 in eyes:\n",
    "                            cv2.rectangle(face_roi,(x1,y1),(x1+w1,y1+h1),(0,0,255),3)\n",
    "                            \n",
    "    cv2.imshow(\"\",frame)#showing image in new window with name IMG\n",
    "    if cv2.waitKey(1) & 0xFF==ord('q'):\n",
    "        #waitkey has 1 as a frame sld stop after 1 sec andthen checks if q is pressed to stop video\n",
    "        break\n",
    "        \n",
    "cv2.destroyAllWindows()#after \n",
    "cap.release()    "
   ]
  },
  {
   "cell_type": "code",
   "execution_count": null,
   "metadata": {},
   "outputs": [],
   "source": [
    "}"
   ]
  }
 ],
 "metadata": {
  "kernelspec": {
   "display_name": "Python 3",
   "language": "python",
   "name": "python3"
  },
  "language_info": {
   "codemirror_mode": {
    "name": "ipython",
    "version": 3
   },
   "file_extension": ".py",
   "mimetype": "text/x-python",
   "name": "python",
   "nbconvert_exporter": "python",
   "pygments_lexer": "ipython3",
   "version": "3.7.3"
  }
 },
 "nbformat": 4,
 "nbformat_minor": 2
}
